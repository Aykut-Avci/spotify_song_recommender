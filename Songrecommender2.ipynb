{
 "cells": [
  {
   "cell_type": "code",
   "execution_count": 1,
   "id": "47898f00",
   "metadata": {},
   "outputs": [],
   "source": [
    "import config\n",
    "import pandas as pd\n",
    "import time\n",
    "import numpy as np\n",
    "import pandas as pd\n",
    "import pickle\n",
    "from sklearn import datasets # sklearn comes with some toy datasets to practise\n",
    "from sklearn.preprocessing import StandardScaler\n",
    "from sklearn.cluster import KMeans\n",
    "from matplotlib import pyplot\n",
    "from sklearn.metrics import silhouette_score\n",
    "import spotipy\n",
    "import json\n",
    "from spotipy.oauth2 import SpotifyClientCredentials\n",
    "from kneed import KneeLocator\n",
    "from IPython.display import IFrame\n",
    "from helpers import play_song\n",
    "from helpers import get_playlist_tracks\n",
    "from helpers import load\n",
    "\n",
    "sp = spotipy.Spotify(auth_manager=SpotifyClientCredentials(client_id= config.client_id,\n",
    "                                                           client_secret= config.client_secret))"
   ]
  },
  {
   "cell_type": "markdown",
   "id": "3a443d46",
   "metadata": {},
   "source": [
    "## Loading songs from csv file"
   ]
  },
  {
   "cell_type": "code",
   "execution_count": 2,
   "id": "2f348fdd",
   "metadata": {},
   "outputs": [],
   "source": [
    "df_tracks = pd.read_csv('songs.csv')"
   ]
  },
  {
   "cell_type": "code",
   "execution_count": 3,
   "id": "59441932",
   "metadata": {},
   "outputs": [],
   "source": [
    "df_tracks.drop(['Unnamed: 0'], axis=1, inplace=True)"
   ]
  },
  {
   "cell_type": "code",
   "execution_count": 4,
   "id": "a38d2a71",
   "metadata": {},
   "outputs": [],
   "source": [
    "df_tracks_num = df_tracks.select_dtypes(include=np.number)"
   ]
  },
  {
   "cell_type": "code",
   "execution_count": 5,
   "id": "b6673643",
   "metadata": {},
   "outputs": [],
   "source": [
    "scaler = StandardScaler()\n",
    "scaler.fit(df_tracks_num)\n",
    "\n",
    "tracks_scaled = scaler.transform(df_tracks_num)\n",
    "df_tracks_num_scaled = pd.DataFrame(tracks_scaled, columns = df_tracks_num.columns)"
   ]
  },
  {
   "cell_type": "code",
   "execution_count": 6,
   "id": "363b76c6",
   "metadata": {},
   "outputs": [],
   "source": [
    "with open(\"Model/scaler.pickle\", \"wb\") as f:\n",
    "    pickle.dump(scaler,f)"
   ]
  },
  {
   "cell_type": "code",
   "execution_count": 7,
   "id": "2d73995b",
   "metadata": {},
   "outputs": [
    {
     "name": "stdout",
     "output_type": "stream",
     "text": [
      "Training a K-Means model with 2 clusters! \n",
      "\n",
      "Training a K-Means model with 3 clusters! \n",
      "\n",
      "Training a K-Means model with 4 clusters! \n",
      "\n",
      "Training a K-Means model with 5 clusters! \n",
      "\n",
      "Training a K-Means model with 6 clusters! \n",
      "\n",
      "Training a K-Means model with 7 clusters! \n",
      "\n",
      "Training a K-Means model with 8 clusters! \n",
      "\n",
      "Training a K-Means model with 9 clusters! \n",
      "\n",
      "Training a K-Means model with 10 clusters! \n",
      "\n",
      "Training a K-Means model with 11 clusters! \n",
      "\n",
      "Training a K-Means model with 12 clusters! \n",
      "\n",
      "Training a K-Means model with 13 clusters! \n",
      "\n",
      "Training a K-Means model with 14 clusters! \n",
      "\n",
      "Training a K-Means model with 15 clusters! \n",
      "\n",
      "Training a K-Means model with 16 clusters! \n",
      "\n",
      "Training a K-Means model with 17 clusters! \n",
      "\n",
      "Training a K-Means model with 18 clusters! \n",
      "\n",
      "Training a K-Means model with 19 clusters! \n",
      "\n",
      "Training a K-Means model with 20 clusters! \n",
      "\n"
     ]
    },
    {
     "data": {
      "text/plain": [
       "Text(0.5, 1.0, 'Elbow Method showing the optimal k')"
      ]
     },
     "execution_count": 7,
     "metadata": {},
     "output_type": "execute_result"
    },
    {
     "data": {
      "image/png": "[encoded data removed]",
      "text/plain": [
       "<Figure size 1152x576 with 1 Axes>"
      ]
     },
     "metadata": {
      "needs_background": "light"
     },
     "output_type": "display_data"
    }
   ],
   "source": [
    "K = range(2, 21)\n",
    "inertia = []\n",
    "\n",
    "for k in K:\n",
    "    print(\"Training a K-Means model with {} clusters! \".format(k))\n",
    "    print()\n",
    "    kmeans = KMeans(n_clusters=k,\n",
    "                    random_state=1234)\n",
    "    kmeans.fit(df_tracks_num_scaled)\n",
    "    inertia.append(kmeans.inertia_)\n",
    "\n",
    "import numpy as np\n",
    "import matplotlib.pyplot as plt\n",
    "%matplotlib inline\n",
    "\n",
    "plt.figure(figsize=(16,8))\n",
    "plt.plot(K, inertia, 'bx-')\n",
    "plt.xlabel('k')\n",
    "plt.ylabel('inertia')\n",
    "plt.xticks(np.arange(min(K), max(K)+1, 1.0))\n",
    "plt.title('Elbow Method showing the optimal k')"
   ]
  },
  {
   "cell_type": "code",
   "execution_count": 8,
   "id": "ff1ddd39",
   "metadata": {},
   "outputs": [],
   "source": [
    "kneedle = KneeLocator(K, inertia, S=1.0, curve=\"convex\", direction=\"decreasing\")"
   ]
  },
  {
   "cell_type": "code",
   "execution_count": 9,
   "id": "12167a2c",
   "metadata": {},
   "outputs": [
    {
     "data": {
      "text/plain": [
       "9"
      ]
     },
     "execution_count": 9,
     "metadata": {},
     "output_type": "execute_result"
    }
   ],
   "source": [
    "kneedle.elbow"
   ]
  },
  {
   "cell_type": "code",
   "execution_count": 10,
   "id": "46c5c029",
   "metadata": {},
   "outputs": [
    {
     "data": {
      "text/plain": [
       "KMeans(n_clusters=9, random_state=1234)"
      ]
     },
     "execution_count": 10,
     "metadata": {},
     "output_type": "execute_result"
    }
   ],
   "source": [
    "kmeans = KMeans(n_clusters=9, random_state=1234)\n",
    "kmeans.fit(df_tracks_num_scaled)"
   ]
  },
  {
   "cell_type": "code",
   "execution_count": 11,
   "id": "26e9b93f",
   "metadata": {},
   "outputs": [],
   "source": [
    "labels = kmeans.labels_"
   ]
  },
  {
   "cell_type": "markdown",
   "id": "215d7187",
   "metadata": {},
   "source": [
    "## Adding cluster labels to the main dataframe"
   ]
  },
  {
   "cell_type": "code",
   "execution_count": 12,
   "id": "7b094ed2",
   "metadata": {},
   "outputs": [],
   "source": [
    "df_tracks['cluster'] = labels.tolist()"
   ]
  },
  {
   "cell_type": "code",
   "execution_count": 13,
   "id": "d589adb8",
   "metadata": {},
   "outputs": [],
   "source": [
    "with open(\"Model/kmeans.pickle\", \"wb\") as f:\n",
    "    pickle.dump(kmeans,f)"
   ]
  },
  {
   "cell_type": "code",
   "execution_count": 14,
   "id": "188ce2ac",
   "metadata": {},
   "outputs": [],
   "source": [
    "def song_recommender():\n",
    "    \n",
    "    print(\"\"\" This Program recommends a song based on user's taste \"\"\")\n",
    "    \n",
    "    time.sleep(3)\n",
    "\n",
    "\n",
    "\n",
    "    usersong = input('####### TYPE A SONG YOU LIKE #######\\n\\n')\n",
    "    song = []\n",
    "    artist = []\n",
    "    ids = []\n",
    "    results = sp.search(q=usersong,limit=5,market=\"GB\")\n",
    "    for item in results['tracks']['items']:\n",
    "        song.append(item['name'])\n",
    "        artist.append(item['artists'][0]['name'])\n",
    "        ids.append(item['id'])\n",
    "        d=list(zip(song,artist,ids))\n",
    "        info = pd.DataFrame(d,columns=['SONG', 'ARTIST','id'])\n",
    "        info.index += 1\n",
    "        info_show = info[['SONG','ARTIST']]\n",
    "\n",
    "    print(info_show)\n",
    "\n",
    "    q = int(input('#######  WHICH SONG DID YOU MEAN? PRESS A NUMBER ########'))\n",
    "\n",
    "\n",
    "    track_id = info.loc[q]['id']\n",
    "\n",
    "\n",
    "\n",
    "    audio_features = sp.audio_features(track_id)[0]\n",
    "\n",
    "    list_of_features = []\n",
    "\n",
    "    for i in audio_features:\n",
    "        list_of_features.append(audio_features[i])\n",
    "    df_user = pd.DataFrame(columns=['danceability', 'energy', 'key', 'loudness', 'mode', 'speechiness', \n",
    "                                    'acousticness', 'instrumentalness', 'liveness', 'valence', 'tempo', \n",
    "                                    'type', 'id', 'uri', \n",
    "                                    'track_href', 'analysis_url', 'duration_ms', 'time_signature'])\n",
    "\n",
    "    df_user.loc[0] = list_of_features\n",
    "\n",
    "    df_user = df_user[[\"danceability\",\"energy\",\"loudness\",\"speechiness\",\"acousticness\",\n",
    "        \"instrumentalness\",\"liveness\",\"valence\",\"tempo\",\"duration_ms\"]]\n",
    "\n",
    "    df_user = df_user.sort_index(axis=1)\n",
    "\n",
    "    scaler2 = load(\"Model/scaler.pickle\")\n",
    "\n",
    "    user_scaled  = scaler2.transform(df_user)\n",
    "\n",
    "    df_user_scaled = pd.DataFrame(user_scaled, columns = df_user.columns)\n",
    "\n",
    "    model = load(\"Model/kmeans.pickle\")\n",
    "\n",
    "    cluster_of_user = model.predict(df_user_scaled)[0]\n",
    "\n",
    "    track_id = df_tracks[df_tracks['cluster'] == cluster_of_user].sample()['id']\n",
    "\n",
    "    track_id = list(track_id)[0]\n",
    "\n",
    "    print('########## RECOMMENDATION ###############################\\n')\n",
    "\n",
    "    return play_song(track_id)"
   ]
  },
  {
   "cell_type": "code",
   "execution_count": 15,
   "id": "1a6d6b50",
   "metadata": {},
   "outputs": [
    {
     "name": "stdout",
     "output_type": "stream",
     "text": [
      " This Program recommends a song based on user's taste \n",
      "####### TYPE A SONG YOU LIKE #######\n",
      "\n",
      "we\n",
      "                        SONG                      ARTIST\n",
      "1                 Wet Dreamz                     J. Cole\n",
      "2            Sweater Weather           The Neighbourhood\n",
      "3                 West Coast                Lana Del Rey\n",
      "4  We Don't Talk About Bruno  Carolina Gaitán - La Gaita\n",
      "5              We Found Love                     Rihanna\n",
      "#######  WHICH SONG DID YOU MEAN? PRESS A NUMBER ########1\n",
      "########## RECOMMENDATION ###############################\n",
      "\n"
     ]
    },
    {
     "data": {
      "text/html": [
       "\n",
       "        <iframe\n",
       "            width=\"320\"\n",
       "            height=\"80\"\n",
       "            src=\"https://open.spotify.com/embed/track/5UmGJS0jd1r52OjnNvVHvU?frameborder=0&allowtransparency=true&allow=encrypted-media\"\n",
       "            frameborder=\"0\"\n",
       "            allowfullscreen\n",
       "            \n",
       "        ></iframe>\n",
       "        "
      ],
      "text/plain": [
       "<IPython.lib.display.IFrame at 0x1484c5b8f70>"
      ]
     },
     "execution_count": 15,
     "metadata": {},
     "output_type": "execute_result"
    }
   ],
   "source": [
    "song_recommender()"
   ]
  },
  {
   "cell_type": "code",
   "execution_count": null,
   "id": "2fce894d",
   "metadata": {},
   "outputs": [],
   "source": []
  }
 ],
 "metadata": {
  "kernelspec": {
   "display_name": "Python 3 (ipykernel)",
   "language": "python",
   "name": "python3"
  },
  "language_info": {
   "codemirror_mode": {
    "name": "ipython",
    "version": 3
   },
   "file_extension": ".py",
   "mimetype": "text/x-python",
   "name": "python",
   "nbconvert_exporter": "python",
   "pygments_lexer": "ipython3",
   "version": "3.9.12"
  },
  "toc": {
   "base_numbering": 1,
   "nav_menu": {},
   "number_sections": true,
   "sideBar": true,
   "skip_h1_title": false,
   "title_cell": "Table of Contents",
   "title_sidebar": "Contents",
   "toc_cell": false,
   "toc_position": {},
   "toc_section_display": true,
   "toc_window_display": true
  }
 },
 "nbformat": 4,
 "nbformat_minor": 5
}
