{
 "cells": [
  {
   "cell_type": "markdown",
   "id": "ba7d9bd1",
   "metadata": {},
   "source": [
    "# Song Recommender"
   ]
  },
  {
   "cell_type": "markdown",
   "id": "d7f03e10",
   "metadata": {},
   "source": [
    "## Connecting to API "
   ]
  },
  {
   "cell_type": "code",
   "execution_count": 1,
   "id": "c81ece57",
   "metadata": {},
   "outputs": [],
   "source": [
    "import config\n",
    "import pandas as pd\n",
    "import time\n",
    "import numpy as np\n",
    "import pandas as pd\n",
    "import pickle\n",
    "from sklearn import datasets # sklearn comes with some toy datasets to practise\n",
    "from sklearn.preprocessing import StandardScaler\n",
    "from sklearn.cluster import KMeans\n",
    "from matplotlib import pyplot\n",
    "from sklearn.metrics import silhouette_score\n",
    "import spotipy\n",
    "import json\n",
    "from spotipy.oauth2 import SpotifyClientCredentials\n",
    "from kneed import KneeLocator\n",
    "from IPython.display import IFrame\n",
    "from helpers import play_song\n",
    "from helpers import get_playlist_tracks\n",
    "from helpers import load\n",
    "\n",
    "sp = spotipy.Spotify(auth_manager=SpotifyClientCredentials(client_id= config.client_id,\n",
    "                                                           client_secret= config.client_secret))\n"
   ]
  },
  {
   "cell_type": "code",
   "execution_count": 3,
   "id": "ab39c7f7",
   "metadata": {},
   "outputs": [
    {
     "data": {
      "text/plain": [
       "'7600aaf3d2c548358653f125b5caecbf'"
      ]
     },
     "execution_count": 3,
     "metadata": {},
     "output_type": "execute_result"
    }
   ],
   "source": [
    "config.client_id\n",
    "config.client_secret"
   ]
  },
  {
   "cell_type": "markdown",
   "id": "2de90849",
   "metadata": {},
   "source": [
    "## Creating list of tracks and storing the audio features in a list "
   ]
  },
  {
   "cell_type": "code",
   "execution_count": 2,
   "id": "d606ddf0",
   "metadata": {},
   "outputs": [
    {
     "ename": "NameError",
     "evalue": "name 'sp' is not defined",
     "output_type": "error",
     "traceback": [
      "\u001b[1;31m---------------------------------------------------------------------------\u001b[0m",
      "\u001b[1;31mNameError\u001b[0m                                 Traceback (most recent call last)",
      "Input \u001b[1;32mIn [2]\u001b[0m, in \u001b[0;36m<cell line: 1>\u001b[1;34m()\u001b[0m\n\u001b[1;32m----> 1\u001b[0m tracklist1 \u001b[38;5;241m=\u001b[39m \u001b[43mget_playlist_tracks\u001b[49m\u001b[43m(\u001b[49m\u001b[38;5;124;43m\"\u001b[39;49m\u001b[38;5;124;43mspotify\u001b[39;49m\u001b[38;5;124;43m\"\u001b[39;49m\u001b[43m,\u001b[49m\u001b[43m \u001b[49m\u001b[38;5;124;43m\"\u001b[39;49m\u001b[38;5;124;43m29RO0worSJjuu77SI7GXoR\u001b[39;49m\u001b[38;5;124;43m\"\u001b[39;49m\u001b[43m)\u001b[49m \u001b[38;5;66;03m#Rock\u001b[39;00m\n\u001b[0;32m      2\u001b[0m tracklist2 \u001b[38;5;241m=\u001b[39m get_playlist_tracks(\u001b[38;5;124m\"\u001b[39m\u001b[38;5;124mspotify\u001b[39m\u001b[38;5;124m\"\u001b[39m, \u001b[38;5;124m\"\u001b[39m\u001b[38;5;124m1z9nITIlc0tEaCwHaaeD66\u001b[39m\u001b[38;5;124m\"\u001b[39m) \u001b[38;5;66;03m#Pop\u001b[39;00m\n\u001b[0;32m      3\u001b[0m tracklist3 \u001b[38;5;241m=\u001b[39m get_playlist_tracks(\u001b[38;5;124m\"\u001b[39m\u001b[38;5;124mspotify\u001b[39m\u001b[38;5;124m\"\u001b[39m, \u001b[38;5;124m\"\u001b[39m\u001b[38;5;124m37i9dQZF1DXb57FjYWz00c\u001b[39m\u001b[38;5;124m\"\u001b[39m) \u001b[38;5;66;03m#80s hits\u001b[39;00m\n",
      "File \u001b[1;32m~\\OneDrive\\Belgeler\\GitHub\\Song_Recommender\\helpers.py:28\u001b[0m, in \u001b[0;36mget_playlist_tracks\u001b[1;34m(username, playlist_id)\u001b[0m\n\u001b[0;32m     27\u001b[0m \u001b[38;5;28;01mdef\u001b[39;00m \u001b[38;5;21mget_playlist_tracks\u001b[39m(username, playlist_id):\n\u001b[1;32m---> 28\u001b[0m     results \u001b[38;5;241m=\u001b[39m \u001b[43msp\u001b[49m\u001b[38;5;241m.\u001b[39muser_playlist_tracks(username,playlist_id,market\u001b[38;5;241m=\u001b[39m\u001b[38;5;124m\"\u001b[39m\u001b[38;5;124mGB\u001b[39m\u001b[38;5;124m\"\u001b[39m)\n\u001b[0;32m     29\u001b[0m     tracks \u001b[38;5;241m=\u001b[39m results[\u001b[38;5;124m'\u001b[39m\u001b[38;5;124mitems\u001b[39m\u001b[38;5;124m'\u001b[39m]\n\u001b[0;32m     30\u001b[0m     \u001b[38;5;28;01mwhile\u001b[39;00m results[\u001b[38;5;124m'\u001b[39m\u001b[38;5;124mnext\u001b[39m\u001b[38;5;124m'\u001b[39m]:\n",
      "\u001b[1;31mNameError\u001b[0m: name 'sp' is not defined"
     ]
    }
   ],
   "source": [
    "tracklist1 = get_playlist_tracks(\"spotify\", \"29RO0worSJjuu77SI7GXoR\") #Rock\n",
    "tracklist2 = get_playlist_tracks(\"spotify\", \"1z9nITIlc0tEaCwHaaeD66\") #Pop\n",
    "tracklist3 = get_playlist_tracks(\"spotify\", \"37i9dQZF1DXb57FjYWz00c\") #80s hits\n",
    "tracklist4 = get_playlist_tracks(\"spotify\", \"3NgkCmLvO7UrtMsVBEeFVU\") #70s\n",
    "tracklist4 = get_playlist_tracks(\"spotify\", \"0oCAqgEvTB59A4UUKBLIOd\") #electronic hits\n",
    "tracklist5 = get_playlist_tracks(\"spotify\", \"141guhSLUNzE58MqlIC4zT\")# 80s, 90s\n",
    "tracklist6 = get_playlist_tracks(\"spotify\", \"4xJKWeSbYKfff0dVrubQ8N\") #All times\n",
    "tracklist7 = get_playlist_tracks(\"spotify\", \"1h0CEZCm6IbFTbxThn6Xcs\") # Classic music\n",
    "tracklist8 = get_playlist_tracks(\"spotify\", \"6TeyryiZ2UEf3CbLXyztFA\") # Classic Rock \n",
    "\n",
    "\n",
    "\n"
   ]
  },
  {
   "cell_type": "code",
   "execution_count": 3,
   "id": "b6d459e2",
   "metadata": {
    "scrolled": true
   },
   "outputs": [
    {
     "ename": "NameError",
     "evalue": "name 'tracklist1' is not defined",
     "output_type": "error",
     "traceback": [
      "\u001b[1;31m---------------------------------------------------------------------------\u001b[0m",
      "\u001b[1;31mNameError\u001b[0m                                 Traceback (most recent call last)",
      "Input \u001b[1;32mIn [3]\u001b[0m, in \u001b[0;36m<cell line: 1>\u001b[1;34m()\u001b[0m\n\u001b[1;32m----> 1\u001b[0m tracklist \u001b[38;5;241m=\u001b[39m \u001b[43mtracklist1\u001b[49m \u001b[38;5;241m+\u001b[39m tracklist2 \u001b[38;5;241m+\u001b[39m tracklist3 \u001b[38;5;241m+\u001b[39m tracklist4  \u001b[38;5;241m+\u001b[39m tracklist5 \u001b[38;5;241m+\u001b[39m tracklist6 \u001b[38;5;241m+\u001b[39m tracklist7 \u001b[38;5;241m+\u001b[39m tracklist8\n",
      "\u001b[1;31mNameError\u001b[0m: name 'tracklist1' is not defined"
     ]
    }
   ],
   "source": [
    "tracklist = tracklist1 + tracklist2 + tracklist3 + tracklist4  + tracklist5 + tracklist6 + tracklist7 + tracklist8"
   ]
  },
  {
   "cell_type": "code",
   "execution_count": null,
   "id": "5222d53e",
   "metadata": {
    "scrolled": true
   },
   "outputs": [],
   "source": [
    "len(tracklist)"
   ]
  },
  {
   "cell_type": "code",
   "execution_count": null,
   "id": "72441ba6",
   "metadata": {},
   "outputs": [],
   "source": [
    "list_of_audio_features=[]\n",
    "for item in range(0, 1000):\n",
    "    #print (tracks[item][\"track\"][\"id\"])\n",
    "    list_of_audio_features.append(sp.audio_features(tracklist[item][\"track\"][\"id\"])[0])"
   ]
  },
  {
   "cell_type": "code",
   "execution_count": null,
   "id": "17da875f",
   "metadata": {},
   "outputs": [],
   "source": [
    "df1=pd.DataFrame(list_of_audio_features)    \n",
    "df1=df1[[\"danceability\",\"energy\",\"loudness\",\"speechiness\",\"acousticness\",\n",
    "    \"instrumentalness\",\"liveness\",\"valence\",\"tempo\",\"id\",\"duration_ms\"]]"
   ]
  },
  {
   "cell_type": "code",
   "execution_count": null,
   "id": "7b431eed",
   "metadata": {},
   "outputs": [],
   "source": [
    "list_of_audio_features=[]\n",
    "for item in range(1001,2000):\n",
    "    #print (tracks[item][\"track\"][\"id\"])\n",
    "    list_of_audio_features.append(sp.audio_features(tracklist[item][\"track\"][\"id\"])[0])"
   ]
  },
  {
   "cell_type": "code",
   "execution_count": null,
   "id": "9c96a25d",
   "metadata": {},
   "outputs": [],
   "source": [
    "df2=pd.DataFrame(list_of_audio_features)    \n",
    "df2=df2[[\"danceability\",\"energy\",\"loudness\",\"speechiness\",\"acousticness\",\n",
    "    \"instrumentalness\",\"liveness\",\"valence\",\"tempo\",\"id\",\"duration_ms\"]]"
   ]
  },
  {
   "cell_type": "code",
   "execution_count": null,
   "id": "f7f612ca",
   "metadata": {},
   "outputs": [],
   "source": [
    "list_of_audio_features=[]\n",
    "for item in range(2001,3000):\n",
    "    #print (tracks[item][\"track\"][\"id\"])\n",
    "    list_of_audio_features.append(sp.audio_features(tracklist[item][\"track\"][\"id\"])[0])"
   ]
  },
  {
   "cell_type": "code",
   "execution_count": null,
   "id": "f32c3011",
   "metadata": {},
   "outputs": [],
   "source": [
    "df3=pd.DataFrame(list_of_audio_features)    \n",
    "df3=df3[[\"danceability\",\"energy\",\"loudness\",\"speechiness\",\"acousticness\",\n",
    "    \"instrumentalness\",\"liveness\",\"valence\",\"tempo\",\"id\",\"duration_ms\"]]"
   ]
  },
  {
   "cell_type": "code",
   "execution_count": null,
   "id": "a5242508",
   "metadata": {},
   "outputs": [],
   "source": [
    "list_of_audio_features=[]\n",
    "for item in range(3001,4000):\n",
    "    #print (tracks[item][\"track\"][\"id\"])\n",
    "    list_of_audio_features.append(sp.audio_features(tracklist[item][\"track\"][\"id\"])[0])"
   ]
  },
  {
   "cell_type": "code",
   "execution_count": null,
   "id": "d675f6f2",
   "metadata": {},
   "outputs": [],
   "source": [
    "df4=pd.DataFrame(list_of_audio_features)    \n",
    "df4=df4[[\"danceability\",\"energy\",\"loudness\",\"speechiness\",\"acousticness\",\n",
    "    \"instrumentalness\",\"liveness\",\"valence\",\"tempo\",\"id\",\"duration_ms\"]]"
   ]
  },
  {
   "cell_type": "code",
   "execution_count": null,
   "id": "59a13dd5",
   "metadata": {},
   "outputs": [],
   "source": [
    "list_of_audio_features=[]\n",
    "for item in range(4001,5000):\n",
    "    #print (tracks[item][\"track\"][\"id\"])\n",
    "    list_of_audio_features.append(sp.audio_features(tracklist[item][\"track\"][\"id\"])[0])"
   ]
  },
  {
   "cell_type": "code",
   "execution_count": null,
   "id": "5d625378",
   "metadata": {},
   "outputs": [],
   "source": [
    "df5=pd.DataFrame(list_of_audio_features)    \n",
    "df5=df5[[\"danceability\",\"energy\",\"loudness\",\"speechiness\",\"acousticness\",\n",
    "    \"instrumentalness\",\"liveness\",\"valence\",\"tempo\",\"id\",\"duration_ms\"]]"
   ]
  },
  {
   "cell_type": "code",
   "execution_count": null,
   "id": "2c6a78ff",
   "metadata": {},
   "outputs": [],
   "source": [
    "list_of_audio_features=[]\n",
    "for item in range(5000,5462):\n",
    "    #print (tracks[item][\"track\"][\"id\"])\n",
    "    list_of_audio_features.append(sp.audio_features(tracklist[item][\"track\"][\"id\"])[0])"
   ]
  },
  {
   "cell_type": "code",
   "execution_count": null,
   "id": "87ff8803",
   "metadata": {},
   "outputs": [],
   "source": [
    "df6=pd.DataFrame(list_of_audio_features)    \n",
    "df6=df6[[\"danceability\",\"energy\",\"loudness\",\"speechiness\",\"acousticness\",\n",
    "    \"instrumentalness\",\"liveness\",\"valence\",\"tempo\",\"id\",\"duration_ms\"]]"
   ]
  },
  {
   "cell_type": "markdown",
   "id": "8f11e04d",
   "metadata": {},
   "source": [
    "## Concatenating the data frames to have all tracks in one data frame"
   ]
  },
  {
   "cell_type": "code",
   "execution_count": null,
   "id": "36073393",
   "metadata": {},
   "outputs": [],
   "source": [
    "df = pd.concat([df1,df2,df3,df4,df5,df6],axis = 0)"
   ]
  },
  {
   "cell_type": "code",
   "execution_count": null,
   "id": "0c51d74e",
   "metadata": {},
   "outputs": [],
   "source": [
    "df"
   ]
  },
  {
   "cell_type": "code",
   "execution_count": null,
   "id": "06e5139f",
   "metadata": {},
   "outputs": [],
   "source": [
    "artist_list = []\n",
    "song_list = []\n",
    "id_list = []\n",
    "\n",
    "for i in range(len(tracklist)):\n",
    "    artist = tracklist[i]['track']['artists'][0]['name']\n",
    "    song_name= tracklist[i]['track']['name']\n",
    "    song_id =  tracklist[i]['track']['id']\n",
    "    artist_list.append(artist)\n",
    "    song_list.append(song_name)\n",
    "    id_list.append(song_id)\n",
    "    \n",
    "\n",
    "    \n",
    "    \n",
    "\n",
    "\n",
    "    \n",
    "\n"
   ]
  },
  {
   "cell_type": "code",
   "execution_count": null,
   "id": "a2b40154",
   "metadata": {},
   "outputs": [],
   "source": [
    "song_info = {'artist':artist_list, 'song':song_list, 'id':id_list}"
   ]
  },
  {
   "cell_type": "code",
   "execution_count": null,
   "id": "371c566c",
   "metadata": {},
   "outputs": [],
   "source": [
    "df_song_info = pd.DataFrame(song_info)"
   ]
  },
  {
   "cell_type": "code",
   "execution_count": null,
   "id": "64969acc",
   "metadata": {},
   "outputs": [],
   "source": [
    "df_song_info"
   ]
  },
  {
   "cell_type": "code",
   "execution_count": null,
   "id": "637fe456",
   "metadata": {
    "scrolled": true
   },
   "outputs": [],
   "source": [
    "len(song_list)"
   ]
  },
  {
   "cell_type": "markdown",
   "id": "0b9e469d",
   "metadata": {},
   "source": [
    "## Adding song and artist name to the features dataframe"
   ]
  },
  {
   "cell_type": "code",
   "execution_count": null,
   "id": "77a3745a",
   "metadata": {},
   "outputs": [],
   "source": [
    "df = pd.merge(df, df_song_info, on=\"id\") "
   ]
  },
  {
   "cell_type": "code",
   "execution_count": null,
   "id": "099ce04f",
   "metadata": {},
   "outputs": [],
   "source": [
    "df"
   ]
  },
  {
   "cell_type": "code",
   "execution_count": null,
   "id": "d4fa5ccf",
   "metadata": {},
   "outputs": [],
   "source": [
    "df = df.drop_duplicates()"
   ]
  },
  {
   "cell_type": "code",
   "execution_count": null,
   "id": "9e7e5f21",
   "metadata": {},
   "outputs": [],
   "source": []
  },
  {
   "cell_type": "code",
   "execution_count": null,
   "id": "2997efa2",
   "metadata": {},
   "outputs": [],
   "source": [
    "df.sort_index(axis=1, inplace=True)"
   ]
  },
  {
   "cell_type": "code",
   "execution_count": null,
   "id": "48cd90e7",
   "metadata": {},
   "outputs": [],
   "source": [
    "df.reset_index(drop=True, inplace=True)"
   ]
  },
  {
   "cell_type": "code",
   "execution_count": null,
   "id": "68dd0b3b",
   "metadata": {},
   "outputs": [],
   "source": [
    "del df['index']"
   ]
  },
  {
   "cell_type": "code",
   "execution_count": null,
   "id": "ef5868eb",
   "metadata": {},
   "outputs": [],
   "source": [
    "df"
   ]
  },
  {
   "cell_type": "code",
   "execution_count": 4,
   "id": "4e714bbd",
   "metadata": {},
   "outputs": [
    {
     "ename": "NameError",
     "evalue": "name 'df' is not defined",
     "output_type": "error",
     "traceback": [
      "\u001b[1;31m---------------------------------------------------------------------------\u001b[0m",
      "\u001b[1;31mNameError\u001b[0m                                 Traceback (most recent call last)",
      "Input \u001b[1;32mIn [4]\u001b[0m, in \u001b[0;36m<cell line: 1>\u001b[1;34m()\u001b[0m\n\u001b[1;32m----> 1\u001b[0m \u001b[43mdf\u001b[49m\u001b[38;5;241m.\u001b[39mto_csv(\u001b[38;5;124m'\u001b[39m\u001b[38;5;124msongs.csv\u001b[39m\u001b[38;5;124m'\u001b[39m)\n",
      "\u001b[1;31mNameError\u001b[0m: name 'df' is not defined"
     ]
    }
   ],
   "source": [
    "df.to_csv('songs.csv') "
   ]
  },
  {
   "cell_type": "code",
   "execution_count": null,
   "id": "55cf78b3",
   "metadata": {
    "scrolled": true
   },
   "outputs": [],
   "source": [
    "# sp.featured_playlists(country = 'GB', limit=10)['playlists']['items'][0]"
   ]
  },
  {
   "cell_type": "markdown",
   "id": "8b1d61dc",
   "metadata": {},
   "source": [
    "### Improvements "
   ]
  },
  {
   "cell_type": "code",
   "execution_count": null,
   "id": "ee33aed4",
   "metadata": {},
   "outputs": [],
   "source": [
    "# # diverse and large playlists\n",
    "\n",
    "# key_word = ['Pop', 'pop', 'Rock', 'rock', \"blues\",\"Blues\", \"Soul\", \"soul\", \"Reggae\", \"reggae\", \"Country\", \"country\", \"Funk\", \"funk\", \"Folk\", \"folk\"]\n",
    "\n",
    "# for item in sp.featured_playlists(country = 'DE', limit= 50)['playlists']['items']:\n",
    "#     if \n",
    "    \n",
    "#     track =  item['tracks']\n",
    "#     l = track['total']\n",
    "#     print(l)\n",
    "#     time.sleep(0.5)\n",
    "       \n",
    "\n",
    "        \n",
    "    "
   ]
  },
  {
   "cell_type": "code",
   "execution_count": null,
   "id": "b15327b7",
   "metadata": {},
   "outputs": [],
   "source": [
    "# results = sp.search(q='pop', limit=50)\n",
    "# len(results)\n"
   ]
  },
  {
   "cell_type": "code",
   "execution_count": null,
   "id": "290f4961",
   "metadata": {},
   "outputs": [],
   "source": [
    "# result = sp.search(q=x, type=\"playlist\", limit=50)['playlists']['items']"
   ]
  },
  {
   "cell_type": "code",
   "execution_count": null,
   "id": "152dff1c",
   "metadata": {},
   "outputs": [],
   "source": [
    "# key_word = ['Pop', 'pop', 'Rock', 'rock', \"blues\",\"Blues\", \"Soul\", \"soul\", \"Reggae\", \"reggae\", \"Country\", \"country\", \"Funk\", \"funk\", \"Folk\", \"folk\"]\n",
    "# result = []\n",
    "# for word in key_word:\n",
    "#     result += sp.search(q=word, type='playlist', limit = 50)['playlists']['items']\n",
    "#     time.sleep(1)"
   ]
  },
  {
   "cell_type": "code",
   "execution_count": null,
   "id": "a5576601",
   "metadata": {},
   "outputs": [],
   "source": [
    "# p_lists=[]\n",
    "\n",
    "# for i in result:\n",
    "#     l = i['tracks']['total']\n",
    "#     if l > 1000:\n",
    "#         p_lists.append(i['id'])"
   ]
  },
  {
   "cell_type": "code",
   "execution_count": null,
   "id": "1273f854",
   "metadata": {},
   "outputs": [],
   "source": [
    "# p_lists.append('69fEt9DN5r4JQATi52sRtq')"
   ]
  },
  {
   "cell_type": "code",
   "execution_count": null,
   "id": "1f8cd6ff",
   "metadata": {},
   "outputs": [],
   "source": [
    "abc = sp.categories(country='GB', locale=None, limit=50, offset=6)['categories']['items']"
   ]
  },
  {
   "cell_type": "code",
   "execution_count": null,
   "id": "20ecf034",
   "metadata": {},
   "outputs": [],
   "source": [
    "len(abc)"
   ]
  },
  {
   "cell_type": "code",
   "execution_count": null,
   "id": "11f08f70",
   "metadata": {},
   "outputs": [],
   "source": [
    "cat = []\n",
    "\n",
    "for i in range(0,10):\n",
    "    cat = sp.categories(country='GB', locale=None, limit=50, offset=i)['categories']['items']\n",
    "    cat.extend(cat)"
   ]
  },
  {
   "cell_type": "code",
   "execution_count": null,
   "id": "14e4b8d0",
   "metadata": {},
   "outputs": [],
   "source": [
    "len(cat)"
   ]
  },
  {
   "cell_type": "code",
   "execution_count": null,
   "id": "0b44e0c6",
   "metadata": {},
   "outputs": [],
   "source": [
    "playlists = []\n",
    "\n",
    "for i in range(0,30):\n",
    "\n",
    "    playlist = sp.featured_playlists(locale=None, country='GB', timestamp=None, limit=50, offset=i)['playlists']['items']\n",
    "    playlists.extend(playlist)"
   ]
  },
  {
   "cell_type": "code",
   "execution_count": null,
   "id": "cddd1729",
   "metadata": {
    "scrolled": true
   },
   "outputs": [],
   "source": [
    "for item in playlists:\n",
    "    print(item['name'])"
   ]
  },
  {
   "cell_type": "code",
   "execution_count": null,
   "id": "f70fce5a",
   "metadata": {},
   "outputs": [],
   "source": [
    "playlist = []\n",
    "\n",
    "for i in range(len(playlists)):\n",
    "    if playlists[i] != playlists[i-1]:\n",
    "        \n",
    "        playlist.append(playlists[i])\n",
    "    "
   ]
  },
  {
   "cell_type": "code",
   "execution_count": null,
   "id": "12d2cd92",
   "metadata": {},
   "outputs": [],
   "source": [
    "len(playlist)"
   ]
  },
  {
   "cell_type": "code",
   "execution_count": null,
   "id": "baad54bc",
   "metadata": {},
   "outputs": [],
   "source": [
    "playlist[0]['type']"
   ]
  },
  {
   "cell_type": "code",
   "execution_count": null,
   "id": "736153b6",
   "metadata": {},
   "outputs": [],
   "source": [
    "# Collecting Genres by Webscraping\n",
    "\n",
    "from bs4 import BeautifulSoup as bs\n",
    "import requests"
   ]
  },
  {
   "cell_type": "code",
   "execution_count": null,
   "id": "00ccddbc",
   "metadata": {},
   "outputs": [],
   "source": [
    "r = requests.get(\"https://everynoise.com/everynoise1d.cgi?scope=all\")"
   ]
  },
  {
   "cell_type": "code",
   "execution_count": null,
   "id": "6aa49ea0",
   "metadata": {},
   "outputs": [],
   "source": [
    "r.content"
   ]
  },
  {
   "cell_type": "code",
   "execution_count": null,
   "id": "aba6ba6a",
   "metadata": {},
   "outputs": [],
   "source": [
    "soup = bs(r.content, \"html.parser\")"
   ]
  },
  {
   "cell_type": "code",
   "execution_count": null,
   "id": "e0ec08ff",
   "metadata": {},
   "outputs": [],
   "source": [
    "soup.body"
   ]
  },
  {
   "cell_type": "code",
   "execution_count": null,
   "id": "fdaf3480",
   "metadata": {},
   "outputs": [],
   "source": [
    "len(soup.select(\".note a\"))"
   ]
  },
  {
   "cell_type": "code",
   "execution_count": null,
   "id": "e6c78997",
   "metadata": {},
   "outputs": [],
   "source": [
    "soup.select(\".note a\")[3].get_text()"
   ]
  },
  {
   "cell_type": "code",
   "execution_count": null,
   "id": "693d39a7",
   "metadata": {},
   "outputs": [],
   "source": [
    "genres = []\n",
    "\n",
    "for iteration, i in enumerate(range(1,len(soup.select(\".note a\")))):\n",
    "    print(iteration)\n",
    "               \n",
    "    genre = soup.select(\".note a\")[i].get_text()\n",
    "    genres.append(genre)"
   ]
  },
  {
   "cell_type": "code",
   "execution_count": 1,
   "id": "e9c3bc79",
   "metadata": {},
   "outputs": [
    {
     "ename": "NameError",
     "evalue": "name 'pickle' is not defined",
     "output_type": "error",
     "traceback": [
      "\u001b[1;31m---------------------------------------------------------------------------\u001b[0m",
      "\u001b[1;31mNameError\u001b[0m                                 Traceback (most recent call last)",
      "Input \u001b[1;32mIn [1]\u001b[0m, in \u001b[0;36m<cell line: 1>\u001b[1;34m()\u001b[0m\n\u001b[0;32m      1\u001b[0m \u001b[38;5;28;01mwith\u001b[39;00m \u001b[38;5;28mopen\u001b[39m(\u001b[38;5;124m\"\u001b[39m\u001b[38;5;124mtest\u001b[39m\u001b[38;5;124m\"\u001b[39m, \u001b[38;5;124m\"\u001b[39m\u001b[38;5;124mwb\u001b[39m\u001b[38;5;124m\"\u001b[39m) \u001b[38;5;28;01mas\u001b[39;00m fp:   \u001b[38;5;66;03m#Pickling\u001b[39;00m\n\u001b[1;32m----> 2\u001b[0m     \u001b[43mpickle\u001b[49m\u001b[38;5;241m.\u001b[39mdump(genres, fp)\n",
      "\u001b[1;31mNameError\u001b[0m: name 'pickle' is not defined"
     ]
    }
   ],
   "source": [
    "\n",
    "with open(\"test\", \"wb\") as fp:   #Pickling\n",
    "    pickle.dump(genres, fp)"
   ]
  },
  {
   "cell_type": "code",
   "execution_count": 14,
   "id": "f471ca24",
   "metadata": {},
   "outputs": [
    {
     "ename": "EOFError",
     "evalue": "Ran out of input",
     "output_type": "error",
     "traceback": [
      "\u001b[1;31m---------------------------------------------------------------------------\u001b[0m",
      "\u001b[1;31mEOFError\u001b[0m                                  Traceback (most recent call last)",
      "Input \u001b[1;32mIn [14]\u001b[0m, in \u001b[0;36m<cell line: 1>\u001b[1;34m()\u001b[0m\n\u001b[0;32m      1\u001b[0m \u001b[38;5;28;01mwith\u001b[39;00m \u001b[38;5;28mopen\u001b[39m(\u001b[38;5;124m\"\u001b[39m\u001b[38;5;124mtest\u001b[39m\u001b[38;5;124m\"\u001b[39m, \u001b[38;5;124m\"\u001b[39m\u001b[38;5;124mrb\u001b[39m\u001b[38;5;124m\"\u001b[39m) \u001b[38;5;28;01mas\u001b[39;00m fp:\n\u001b[1;32m----> 2\u001b[0m     genres \u001b[38;5;241m=\u001b[39m \u001b[43mpickle\u001b[49m\u001b[38;5;241;43m.\u001b[39;49m\u001b[43mload\u001b[49m\u001b[43m(\u001b[49m\u001b[43mfp\u001b[49m\u001b[43m)\u001b[49m\n",
      "\u001b[1;31mEOFError\u001b[0m: Ran out of input"
     ]
    }
   ],
   "source": [
    "with open(\"test\", \"rb\") as fp:\n",
    "    genres = pickle.load(fp)"
   ]
  },
  {
   "cell_type": "code",
   "execution_count": 3,
   "id": "6f83948c",
   "metadata": {},
   "outputs": [
    {
     "data": {
      "text/plain": [
       "'dance pop'"
      ]
     },
     "execution_count": 3,
     "metadata": {},
     "output_type": "execute_result"
    }
   ],
   "source": [
    "'dance pop'.strip()"
   ]
  },
  {
   "cell_type": "code",
   "execution_count": null,
   "id": "a52c1560",
   "metadata": {},
   "outputs": [],
   "source": [
    "len(genres)"
   ]
  },
  {
   "cell_type": "code",
   "execution_count": 9,
   "id": "dc011e5b",
   "metadata": {},
   "outputs": [
    {
     "ename": "NameError",
     "evalue": "name 'genres' is not defined",
     "output_type": "error",
     "traceback": [
      "\u001b[1;31m---------------------------------------------------------------------------\u001b[0m",
      "\u001b[1;31mNameError\u001b[0m                                 Traceback (most recent call last)",
      "Input \u001b[1;32mIn [9]\u001b[0m, in \u001b[0;36m<cell line: 3>\u001b[1;34m()\u001b[0m\n\u001b[0;32m      1\u001b[0m genres_new \u001b[38;5;241m=\u001b[39m []\n\u001b[1;32m----> 3\u001b[0m \u001b[38;5;28;01mfor\u001b[39;00m \u001b[38;5;28mid\u001b[39m, i \u001b[38;5;129;01min\u001b[39;00m \u001b[38;5;28menumerate\u001b[39m(\u001b[43mgenres\u001b[49m):\n\u001b[0;32m      4\u001b[0m     \u001b[38;5;28mprint\u001b[39m(\u001b[38;5;28mid\u001b[39m)\n\u001b[0;32m      5\u001b[0m     genres_new\u001b[38;5;241m.\u001b[39mextend(i\u001b[38;5;241m.\u001b[39msplit())\n",
      "\u001b[1;31mNameError\u001b[0m: name 'genres' is not defined"
     ]
    }
   ],
   "source": [
    "genres_new = []\n",
    "\n",
    "for id, i in enumerate(genres):\n",
    "    print(id)\n",
    "    genres_new.extend(i.split())"
   ]
  },
  {
   "cell_type": "code",
   "execution_count": null,
   "id": "47c9b2a7",
   "metadata": {},
   "outputs": [],
   "source": [
    "len(genres_new)"
   ]
  },
  {
   "cell_type": "code",
   "execution_count": null,
   "id": "16a8ca8e",
   "metadata": {},
   "outputs": [],
   "source": [
    "playlists_all = []\n",
    "genres = [\"Country\",\n",
    "          \"Electronic\",\n",
    "          \"Funk\",\n",
    "          \"Hip-hop\",\n",
    "          \"Jazz\",\n",
    "          \"Latin\", \n",
    "          \"Pop\",\n",
    "          \"Punk\",\n",
    "          \"Reggae\",\n",
    "          \"Rock\",\n",
    "          \"Metal\",\n",
    "          \"Soul\", \n",
    "          \"R&B\"]\n",
    "\n",
    "\n",
    "for id, genre in enumerate(genres):\n",
    "    \n",
    "    print(id)\n",
    "    \n",
    "\n",
    "\n",
    "    pl_result = sp.search(q=genre, limit=50,type='playlist',market='GB')\n",
    "\n",
    "    playlists = pl_result['playlists']['items']\n",
    "    \n",
    "    \n",
    "    \n",
    "    playlists_all.extend(playlists)"
   ]
  },
  {
   "cell_type": "code",
   "execution_count": null,
   "id": "d28b61d3",
   "metadata": {},
   "outputs": [],
   "source": [
    "playlists_all"
   ]
  },
  {
   "cell_type": "code",
   "execution_count": null,
   "id": "afcaf5b0",
   "metadata": {},
   "outputs": [],
   "source": [
    "sp.search(q='Pop', limit=1,type='playlist',market='GB')"
   ]
  },
  {
   "cell_type": "code",
   "execution_count": null,
   "id": "2b4e6401",
   "metadata": {},
   "outputs": [],
   "source": [
    "len(pl_result)"
   ]
  },
  {
   "cell_type": "code",
   "execution_count": null,
   "id": "53e32b30",
   "metadata": {},
   "outputs": [],
   "source": []
  }
 ],
 "metadata": {
  "kernelspec": {
   "display_name": "Python 3 (ipykernel)",
   "language": "python",
   "name": "python3"
  },
  "language_info": {
   "codemirror_mode": {
    "name": "ipython",
    "version": 3
   },
   "file_extension": ".py",
   "mimetype": "text/x-python",
   "name": "python",
   "nbconvert_exporter": "python",
   "pygments_lexer": "ipython3",
   "version": "3.9.12"
  },
  "toc": {
   "base_numbering": 1,
   "nav_menu": {},
   "number_sections": true,
   "sideBar": true,
   "skip_h1_title": false,
   "title_cell": "Table of Contents",
   "title_sidebar": "Contents",
   "toc_cell": false,
   "toc_position": {
    "height": "calc(100% - 180px)",
    "left": "10px",
    "top": "150px",
    "width": "279.273px"
   },
   "toc_section_display": true,
   "toc_window_display": true
  }
 },
 "nbformat": 4,
 "nbformat_minor": 5
}
