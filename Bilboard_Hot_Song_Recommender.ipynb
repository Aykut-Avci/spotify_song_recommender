{
 "cells": [
  {
   "cell_type": "code",
   "execution_count": 1,
   "id": "b6e371a6",
   "metadata": {},
   "outputs": [],
   "source": [
    "from bs4 import BeautifulSoup as bs\n",
    "import requests\n",
    "import pandas as pd\n",
    "import random\n",
    "import difflib\n",
    "from colored import fore, back, style"
   ]
  },
  {
   "cell_type": "code",
   "execution_count": 2,
   "id": "b2a7b473",
   "metadata": {},
   "outputs": [],
   "source": [
    "url = 'https://www.billboard.com/charts/hot-100/'"
   ]
  },
  {
   "cell_type": "code",
   "execution_count": 3,
   "id": "078cc82d",
   "metadata": {},
   "outputs": [],
   "source": [
    "def hot_songs():\n",
    "    response = requests.get(url)\n",
    "    soup = bs(response.content, \"html.parser\")\n",
    "    song_list = soup.select('.o-chart-results-list__item h3')\n",
    "    songs = []\n",
    "\n",
    "    for i in song_list:\n",
    "        s = i.get_text()\n",
    "        songs.append(s.strip())\n",
    "    artist_list = soup.select('span.a-no-trucate')\n",
    "    \n",
    "    artists = []\n",
    "    \n",
    "    for i in artist_list:\n",
    "        a = i.get_text()\n",
    "        artists.append(a.strip())\n",
    "    df_songs = pd.DataFrame({'Artist':artists, 'Song':songs})\n",
    "    \n",
    "    return df_songs\n",
    "    \n",
    "\n"
   ]
  },
  {
   "cell_type": "code",
   "execution_count": 20,
   "id": "c087a2b1",
   "metadata": {},
   "outputs": [],
   "source": [
    "def song_recommender() :\n",
    "    \n",
    "    while True:\n",
    "        hot_list = hot_songs()\n",
    "        lcase_song = [x.lower() for x in hot_list['Song']]\n",
    "\n",
    "        print (fore.BLUE + style.BOLD + 'TYPE A HOT SONG NAME' + style.RESET)\n",
    "\n",
    "        user_choice = str(input(\"\"))\n",
    "\n",
    "        if len(user_choice) < 3:\n",
    "            print(\"Please enter at least 3 characters.\")\n",
    "        else:\n",
    "            result = difflib.get_close_matches(user_choice, lcase_song, n=3, cutoff= 0.2)\n",
    "            result=pd.DataFrame(result, columns=['song'])\n",
    "            result.index += 1\n",
    "\n",
    "\n",
    "\n",
    "            print (fore.BLUE + style.BOLD + \"\\nDID YOU MEAN ANY OF THESE SONGS? [y], [n]\" + style.RESET)\n",
    "            display(result)\n",
    "            c = str(input(\"\"))\n",
    "            if c in ('y','Y'):\n",
    "                print (fore.BLUE + style.BOLD + \"RECOMMENDED HOT SONG\" + style.RESET)\n",
    "                display(hot_list.sample())\n",
    "            elif c in ('n', 'N'):\n",
    "\n",
    "                print (fore.BLUE + style.BOLD + 'Try another song.' + style.RESET)\n",
    "            else:\n",
    "\n",
    "                print (fore.BLUE + style.BOLD + 'wrong entry, please enter a song name' + style.RESET)"
   ]
  },
  {
   "cell_type": "code",
   "execution_count": null,
   "id": "5a8b61e6",
   "metadata": {},
   "outputs": [
    {
     "name": "stdout",
     "output_type": "stream",
     "text": [
      "\u001b[38;5;4m\u001b[1mTYPE A HOT SONG NAME\u001b[0m\n",
      "we are\n",
      "\u001b[38;5;4m\u001b[1m\n",
      "DID YOU MEAN ANY OF THESE SONGS? [y], [n]\u001b[0m\n"
     ]
    },
    {
     "data": {
      "text/html": [
       "<div>\n",
       "<style scoped>\n",
       "    .dataframe tbody tr th:only-of-type {\n",
       "        vertical-align: middle;\n",
       "    }\n",
       "\n",
       "    .dataframe tbody tr th {\n",
       "        vertical-align: top;\n",
       "    }\n",
       "\n",
       "    .dataframe thead th {\n",
       "        text-align: right;\n",
       "    }\n",
       "</style>\n",
       "<table border=\"1\" class=\"dataframe\">\n",
       "  <thead>\n",
       "    <tr style=\"text-align: right;\">\n",
       "      <th></th>\n",
       "      <th>song</th>\n",
       "    </tr>\n",
       "  </thead>\n",
       "  <tbody>\n",
       "    <tr>\n",
       "      <th>1</th>\n",
       "      <td>where it ends</td>\n",
       "    </tr>\n",
       "    <tr>\n",
       "      <th>2</th>\n",
       "      <td>left and right</td>\n",
       "    </tr>\n",
       "    <tr>\n",
       "      <th>3</th>\n",
       "      <td>i ain't worried</td>\n",
       "    </tr>\n",
       "  </tbody>\n",
       "</table>\n",
       "</div>"
      ],
      "text/plain": [
       "              song\n",
       "1    where it ends\n",
       "2   left and right\n",
       "3  i ain't worried"
      ]
     },
     "metadata": {},
     "output_type": "display_data"
    },
    {
     "name": "stdout",
     "output_type": "stream",
     "text": [
      "y\n",
      "\u001b[38;5;4m\u001b[1mRECOMMENDED HOT SONG\u001b[0m\n"
     ]
    },
    {
     "data": {
      "text/html": [
       "<div>\n",
       "<style scoped>\n",
       "    .dataframe tbody tr th:only-of-type {\n",
       "        vertical-align: middle;\n",
       "    }\n",
       "\n",
       "    .dataframe tbody tr th {\n",
       "        vertical-align: top;\n",
       "    }\n",
       "\n",
       "    .dataframe thead th {\n",
       "        text-align: right;\n",
       "    }\n",
       "</style>\n",
       "<table border=\"1\" class=\"dataframe\">\n",
       "  <thead>\n",
       "    <tr style=\"text-align: right;\">\n",
       "      <th></th>\n",
       "      <th>Artist</th>\n",
       "      <th>Song</th>\n",
       "    </tr>\n",
       "  </thead>\n",
       "  <tbody>\n",
       "    <tr>\n",
       "      <th>17</th>\n",
       "      <td>Glass Animals</td>\n",
       "      <td>Heat Waves</td>\n",
       "    </tr>\n",
       "  </tbody>\n",
       "</table>\n",
       "</div>"
      ],
      "text/plain": [
       "           Artist        Song\n",
       "17  Glass Animals  Heat Waves"
      ]
     },
     "metadata": {},
     "output_type": "display_data"
    },
    {
     "name": "stdout",
     "output_type": "stream",
     "text": [
      "\u001b[38;5;4m\u001b[1mTYPE A HOT SONG NAME\u001b[0m\n"
     ]
    }
   ],
   "source": [
    "song_recommender()"
   ]
  },
  {
   "cell_type": "code",
   "execution_count": null,
   "id": "acc00159",
   "metadata": {},
   "outputs": [],
   "source": []
  }
 ],
 "metadata": {
  "kernelspec": {
   "display_name": "Python 3 (ipykernel)",
   "language": "python",
   "name": "python3"
  },
  "language_info": {
   "codemirror_mode": {
    "name": "ipython",
    "version": 3
   },
   "file_extension": ".py",
   "mimetype": "text/x-python",
   "name": "python",
   "nbconvert_exporter": "python",
   "pygments_lexer": "ipython3",
   "version": "3.9.12"
  },
  "toc": {
   "base_numbering": 1,
   "nav_menu": {},
   "number_sections": true,
   "sideBar": true,
   "skip_h1_title": false,
   "title_cell": "Table of Contents",
   "title_sidebar": "Contents",
   "toc_cell": false,
   "toc_position": {},
   "toc_section_display": true,
   "toc_window_display": false
  }
 },
 "nbformat": 4,
 "nbformat_minor": 5
}
